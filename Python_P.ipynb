{
 "cells": [
  {
   "cell_type": "code",
   "execution_count": 10,
   "id": "dc8c943a",
   "metadata": {},
   "outputs": [
    {
     "name": "stdout",
     "output_type": "stream",
     "text": [
      "Enter a Number:5\n",
      "The Factorial of 5 is 1\n",
      "The Factorial of 5 is 2\n",
      "The Factorial of 5 is 6\n",
      "The Factorial of 5 is 24\n",
      "The Factorial of 5 is 120\n"
     ]
    }
   ],
   "source": [
    "num=int(input(\"Enter a Number:\"))\n",
    "factorial=1\n",
    "if num<0:\n",
    "    print(\"Factorial does not exist for Nagative Numbers\") \n",
    "elif num==0:\n",
    "        print(\"The factorial is 0 and 1\")\n",
    "else:\n",
    "            for i in range(1,num+1):\n",
    "                factorial=factorial*i\n",
    "                print(\"The Factorial of\",num,\"is\",factorial)"
   ]
  },
  {
   "cell_type": "code",
   "execution_count": null,
   "id": "9171e1dd",
   "metadata": {},
   "outputs": [],
   "source": []
  }
 ],
 "metadata": {
  "kernelspec": {
   "display_name": "Python 3 (ipykernel)",
   "language": "python",
   "name": "python3"
  },
  "language_info": {
   "codemirror_mode": {
    "name": "ipython",
    "version": 3
   },
   "file_extension": ".py",
   "mimetype": "text/x-python",
   "name": "python",
   "nbconvert_exporter": "python",
   "pygments_lexer": "ipython3",
   "version": "3.9.13"
  }
 },
 "nbformat": 4,
 "nbformat_minor": 5
}
